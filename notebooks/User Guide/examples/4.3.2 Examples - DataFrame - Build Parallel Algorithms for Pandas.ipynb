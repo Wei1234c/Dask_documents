{
 "cells": [
  {
   "cell_type": "markdown",
   "metadata": {},
   "source": [
    "# Examples - DataFrame - Build Parallel Algorithms for Pandas\n",
    "https://gist.github.com/mrocklin/d009e5d4a1f49ecdb433107f3d72c7f3#file-pygotham-dataframes-ipynb "
   ]
  },
  {
   "cell_type": "code",
   "execution_count": 1,
   "metadata": {},
   "outputs": [],
   "source": [
    "import os\n",
    "import numpy as np\n",
    "import pandas as pd\n",
    "from pandas import DataFrame, Series"
   ]
  },
  {
   "cell_type": "markdown",
   "metadata": {},
   "source": [
    "## prepare sample csv files"
   ]
  },
  {
   "cell_type": "code",
   "execution_count": 2,
   "metadata": {},
   "outputs": [
    {
     "data": {
      "text/html": [
       "<div>\n",
       "<style scoped>\n",
       "    .dataframe tbody tr th:only-of-type {\n",
       "        vertical-align: middle;\n",
       "    }\n",
       "\n",
       "    .dataframe tbody tr th {\n",
       "        vertical-align: top;\n",
       "    }\n",
       "\n",
       "    .dataframe thead th {\n",
       "        text-align: right;\n",
       "    }\n",
       "</style>\n",
       "<table border=\"1\" class=\"dataframe\">\n",
       "  <thead>\n",
       "    <tr style=\"text-align: right;\">\n",
       "      <th></th>\n",
       "      <th>timestamp</th>\n",
       "      <th>value</th>\n",
       "      <th>close</th>\n",
       "      <th>high</th>\n",
       "      <th>low</th>\n",
       "      <th>open</th>\n",
       "    </tr>\n",
       "    <tr>\n",
       "      <th>index</th>\n",
       "      <th></th>\n",
       "      <th></th>\n",
       "      <th></th>\n",
       "      <th></th>\n",
       "      <th></th>\n",
       "      <th></th>\n",
       "    </tr>\n",
       "  </thead>\n",
       "  <tbody>\n",
       "    <tr>\n",
       "      <th>2015-02-28 05:00:00</th>\n",
       "      <td>2015-02-28 05:00:00</td>\n",
       "      <td>-0.254489</td>\n",
       "      <td>788.61</td>\n",
       "      <td>585.87</td>\n",
       "      <td>277.05</td>\n",
       "      <td>477.57</td>\n",
       "    </tr>\n",
       "    <tr>\n",
       "      <th>2015-02-28 06:00:00</th>\n",
       "      <td>2015-02-28 06:00:00</td>\n",
       "      <td>1.085165</td>\n",
       "      <td>411.39</td>\n",
       "      <td>431.16</td>\n",
       "      <td>728.87</td>\n",
       "      <td>555.15</td>\n",
       "    </tr>\n",
       "    <tr>\n",
       "      <th>2015-02-28 07:00:00</th>\n",
       "      <td>2015-02-28 07:00:00</td>\n",
       "      <td>-0.794818</td>\n",
       "      <td>907.47</td>\n",
       "      <td>867.58</td>\n",
       "      <td>835.05</td>\n",
       "      <td>755.25</td>\n",
       "    </tr>\n",
       "    <tr>\n",
       "      <th>2015-02-28 08:00:00</th>\n",
       "      <td>2015-02-28 08:00:00</td>\n",
       "      <td>-0.624366</td>\n",
       "      <td>130.55</td>\n",
       "      <td>10.68</td>\n",
       "      <td>929.25</td>\n",
       "      <td>864.93</td>\n",
       "    </tr>\n",
       "    <tr>\n",
       "      <th>2015-02-28 09:00:00</th>\n",
       "      <td>2015-02-28 09:00:00</td>\n",
       "      <td>-0.198693</td>\n",
       "      <td>485.76</td>\n",
       "      <td>956.59</td>\n",
       "      <td>561.30</td>\n",
       "      <td>24.74</td>\n",
       "    </tr>\n",
       "  </tbody>\n",
       "</table>\n",
       "</div>"
      ],
      "text/plain": [
       "                              timestamp     value   close    high     low  \\\n",
       "index                                                                       \n",
       "2015-02-28 05:00:00 2015-02-28 05:00:00 -0.254489  788.61  585.87  277.05   \n",
       "2015-02-28 06:00:00 2015-02-28 06:00:00  1.085165  411.39  431.16  728.87   \n",
       "2015-02-28 07:00:00 2015-02-28 07:00:00 -0.794818  907.47  867.58  835.05   \n",
       "2015-02-28 08:00:00 2015-02-28 08:00:00 -0.624366  130.55   10.68  929.25   \n",
       "2015-02-28 09:00:00 2015-02-28 09:00:00 -0.198693  485.76  956.59  561.30   \n",
       "\n",
       "                       open  \n",
       "index                        \n",
       "2015-02-28 05:00:00  477.57  \n",
       "2015-02-28 06:00:00  555.15  \n",
       "2015-02-28 07:00:00  755.25  \n",
       "2015-02-28 08:00:00  864.93  \n",
       "2015-02-28 09:00:00   24.74  "
      ]
     },
     "execution_count": 2,
     "metadata": {},
     "output_type": "execute_result"
    }
   ],
   "source": [
    "data_path = '../dask-tutorial/data/csv/'\n",
    "dates = pd.date_range(start = '2015-1-1', end = '2015-2-28') \n",
    "timedeltas = pd.timedelta_range(start = 0, periods = 10, freq = '1H')\n",
    "length = timedeltas.shape[0]\n",
    "\n",
    "for date in dates:\n",
    "    filename = str(date.date())\n",
    "    file = os.path.join(data_path, filename)    \n",
    "    \n",
    "    df = DataFrame({'timestamp': date + timedeltas})\n",
    "    df.index = df.timestamp\n",
    "    df.index.name = 'index'\n",
    "    df['value'] = np.random.randn(length)\n",
    "    df['close'] = np.random.uniform(low = 10, high = 1000, size = length).round(2)\n",
    "    df['high'] = np.random.uniform(low = 10, high = 1000, size = length).round(2)\n",
    "    df['low'] = np.random.uniform(low = 10, high = 1000, size = length).round(2)\n",
    "    df['open'] = np.random.uniform(low = 10, high = 1000, size = length).round(2)    \n",
    "    \n",
    "    df.to_csv(file + '.csv') \n",
    "    \n",
    "df.tail()"
   ]
  },
  {
   "cell_type": "code",
   "execution_count": 3,
   "metadata": {},
   "outputs": [
    {
     "data": {
      "text/plain": [
       "['../dask-tutorial/data/csv/2015-01-01.csv',\n",
       " '../dask-tutorial/data/csv/2015-01-02.csv',\n",
       " '../dask-tutorial/data/csv/2015-01-03.csv',\n",
       " '../dask-tutorial/data/csv/2015-01-04.csv',\n",
       " '../dask-tutorial/data/csv/2015-01-05.csv']"
      ]
     },
     "execution_count": 3,
     "metadata": {},
     "output_type": "execute_result"
    }
   ],
   "source": [
    "from glob import glob\n",
    "\n",
    "filenames = sorted(glob(data_path + '2015-*.csv'))\n",
    "filenames[:5]"
   ]
  },
  {
   "cell_type": "code",
   "execution_count": 4,
   "metadata": {},
   "outputs": [
    {
     "data": {
      "text/plain": [
       "59"
      ]
     },
     "execution_count": 4,
     "metadata": {},
     "output_type": "execute_result"
    }
   ],
   "source": [
    "len(filenames)"
   ]
  },
  {
   "cell_type": "markdown",
   "metadata": {},
   "source": [
    "### Use Pandas on one file"
   ]
  },
  {
   "cell_type": "code",
   "execution_count": 5,
   "metadata": {},
   "outputs": [
    {
     "data": {
      "text/html": [
       "<div>\n",
       "<style scoped>\n",
       "    .dataframe tbody tr th:only-of-type {\n",
       "        vertical-align: middle;\n",
       "    }\n",
       "\n",
       "    .dataframe tbody tr th {\n",
       "        vertical-align: top;\n",
       "    }\n",
       "\n",
       "    .dataframe thead th {\n",
       "        text-align: right;\n",
       "    }\n",
       "</style>\n",
       "<table border=\"1\" class=\"dataframe\">\n",
       "  <thead>\n",
       "    <tr style=\"text-align: right;\">\n",
       "      <th></th>\n",
       "      <th>timestamp</th>\n",
       "      <th>value</th>\n",
       "      <th>close</th>\n",
       "      <th>high</th>\n",
       "      <th>low</th>\n",
       "      <th>open</th>\n",
       "    </tr>\n",
       "    <tr>\n",
       "      <th>index</th>\n",
       "      <th></th>\n",
       "      <th></th>\n",
       "      <th></th>\n",
       "      <th></th>\n",
       "      <th></th>\n",
       "      <th></th>\n",
       "    </tr>\n",
       "  </thead>\n",
       "  <tbody>\n",
       "    <tr>\n",
       "      <th>2015-01-01 05:00:00</th>\n",
       "      <td>2015-01-01 05:00:00</td>\n",
       "      <td>0.332503</td>\n",
       "      <td>819.33</td>\n",
       "      <td>622.88</td>\n",
       "      <td>443.46</td>\n",
       "      <td>493.61</td>\n",
       "    </tr>\n",
       "    <tr>\n",
       "      <th>2015-01-01 06:00:00</th>\n",
       "      <td>2015-01-01 06:00:00</td>\n",
       "      <td>0.443744</td>\n",
       "      <td>29.20</td>\n",
       "      <td>245.18</td>\n",
       "      <td>501.18</td>\n",
       "      <td>365.43</td>\n",
       "    </tr>\n",
       "    <tr>\n",
       "      <th>2015-01-01 07:00:00</th>\n",
       "      <td>2015-01-01 07:00:00</td>\n",
       "      <td>-0.274386</td>\n",
       "      <td>411.33</td>\n",
       "      <td>559.88</td>\n",
       "      <td>229.64</td>\n",
       "      <td>663.58</td>\n",
       "    </tr>\n",
       "    <tr>\n",
       "      <th>2015-01-01 08:00:00</th>\n",
       "      <td>2015-01-01 08:00:00</td>\n",
       "      <td>0.365349</td>\n",
       "      <td>710.70</td>\n",
       "      <td>266.02</td>\n",
       "      <td>280.61</td>\n",
       "      <td>517.96</td>\n",
       "    </tr>\n",
       "    <tr>\n",
       "      <th>2015-01-01 09:00:00</th>\n",
       "      <td>2015-01-01 09:00:00</td>\n",
       "      <td>0.486758</td>\n",
       "      <td>652.62</td>\n",
       "      <td>106.79</td>\n",
       "      <td>285.23</td>\n",
       "      <td>403.35</td>\n",
       "    </tr>\n",
       "  </tbody>\n",
       "</table>\n",
       "</div>"
      ],
      "text/plain": [
       "                              timestamp     value   close    high     low  \\\n",
       "index                                                                       \n",
       "2015-01-01 05:00:00 2015-01-01 05:00:00  0.332503  819.33  622.88  443.46   \n",
       "2015-01-01 06:00:00 2015-01-01 06:00:00  0.443744   29.20  245.18  501.18   \n",
       "2015-01-01 07:00:00 2015-01-01 07:00:00 -0.274386  411.33  559.88  229.64   \n",
       "2015-01-01 08:00:00 2015-01-01 08:00:00  0.365349  710.70  266.02  280.61   \n",
       "2015-01-01 09:00:00 2015-01-01 09:00:00  0.486758  652.62  106.79  285.23   \n",
       "\n",
       "                       open  \n",
       "index                        \n",
       "2015-01-01 05:00:00  493.61  \n",
       "2015-01-01 06:00:00  365.43  \n",
       "2015-01-01 07:00:00  663.58  \n",
       "2015-01-01 08:00:00  517.96  \n",
       "2015-01-01 09:00:00  403.35  "
      ]
     },
     "execution_count": 5,
     "metadata": {},
     "output_type": "execute_result"
    }
   ],
   "source": [
    "df = pd.read_csv(filenames[0], parse_dates=['timestamp'], index_col=0)\n",
    "df.tail()"
   ]
  },
  {
   "cell_type": "code",
   "execution_count": 6,
   "metadata": {},
   "outputs": [
    {
     "data": {
      "text/plain": [
       "535.6519999999999"
      ]
     },
     "execution_count": 6,
     "metadata": {},
     "output_type": "execute_result"
    }
   ],
   "source": [
    "df.close.mean()"
   ]
  },
  {
   "cell_type": "code",
   "execution_count": 7,
   "metadata": {},
   "outputs": [
    {
     "data": {
      "text/plain": [
       "timestamp\n",
       "0    324.98\n",
       "1    305.43\n",
       "2    423.69\n",
       "3    732.04\n",
       "4    947.20\n",
       "5    819.33\n",
       "6     29.20\n",
       "7    411.33\n",
       "8    710.70\n",
       "9    652.62\n",
       "Name: close, dtype: float64"
      ]
     },
     "execution_count": 7,
     "metadata": {},
     "output_type": "execute_result"
    }
   ],
   "source": [
    "df.groupby(df.timestamp.dt.hour).close.mean()"
   ]
  },
  {
   "cell_type": "code",
   "execution_count": 8,
   "metadata": {
    "scrolled": true
   },
   "outputs": [
    {
     "data": {
      "image/png": "[encoded data removed]",
      "text/plain": [
       "<matplotlib.figure.Figure at 0x7f5e56bb49e8>"
      ]
     },
     "metadata": {},
     "output_type": "display_data"
    }
   ],
   "source": [
    "%matplotlib inline\n",
    "df.groupby(df.timestamp.dt.hour).close.mean().plot(figsize=(10, 4));"
   ]
  },
  {
   "cell_type": "markdown",
   "metadata": {},
   "source": [
    "### Dask.dataframe can do this on all of the csv files"
   ]
  },
  {
   "cell_type": "code",
   "execution_count": 9,
   "metadata": {},
   "outputs": [
    {
     "data": {
      "text/html": [
       "<table style=\"border: 2px solid white;\">\n",
       "<tr>\n",
       "<td style=\"vertical-align: top; border: 0px solid white\">\n",
       "<h3>Client</h3>\n",
       "<ul>\n",
       "  <li><b>Scheduler: </b>tcp://127.0.0.1:35845\n",
       "  <li><b>Dashboard: </b><a href='http://127.0.0.1:8787/status' target='_blank'>http://127.0.0.1:8787/status</a>\n",
       "</ul>\n",
       "</td>\n",
       "<td style=\"vertical-align: top; border: 0px solid white\">\n",
       "<h3>Cluster</h3>\n",
       "<ul>\n",
       "  <li><b>Workers: </b>2</li>\n",
       "  <li><b>Cores: </b>2</li>\n",
       "  <li><b>Memory: </b>8.28 GB</li>\n",
       "</ul>\n",
       "</td>\n",
       "</tr>\n",
       "</table>"
      ],
      "text/plain": [
       "<Client: scheduler='tcp://127.0.0.1:35845' processes=2 cores=2>"
      ]
     },
     "execution_count": 9,
     "metadata": {},
     "output_type": "execute_result"
    }
   ],
   "source": [
    "from dask.distributed import Client\n",
    "client = Client()\n",
    "client"
   ]
  },
  {
   "cell_type": "code",
   "execution_count": 10,
   "metadata": {},
   "outputs": [
    {
     "data": {
      "text/html": [
       "<div>\n",
       "<style scoped>\n",
       "    .dataframe tbody tr th:only-of-type {\n",
       "        vertical-align: middle;\n",
       "    }\n",
       "\n",
       "    .dataframe tbody tr th {\n",
       "        vertical-align: top;\n",
       "    }\n",
       "\n",
       "    .dataframe thead th {\n",
       "        text-align: right;\n",
       "    }\n",
       "</style>\n",
       "<table border=\"1\" class=\"dataframe\">\n",
       "  <thead>\n",
       "    <tr style=\"text-align: right;\">\n",
       "      <th></th>\n",
       "      <th>timestamp</th>\n",
       "      <th>value</th>\n",
       "      <th>close</th>\n",
       "      <th>high</th>\n",
       "      <th>low</th>\n",
       "      <th>open</th>\n",
       "    </tr>\n",
       "    <tr>\n",
       "      <th>index</th>\n",
       "      <th></th>\n",
       "      <th></th>\n",
       "      <th></th>\n",
       "      <th></th>\n",
       "      <th></th>\n",
       "      <th></th>\n",
       "    </tr>\n",
       "  </thead>\n",
       "  <tbody>\n",
       "    <tr>\n",
       "      <th>2015-02-28 05:00:00</th>\n",
       "      <td>2015-02-28 05:00:00</td>\n",
       "      <td>-0.254489</td>\n",
       "      <td>788.61</td>\n",
       "      <td>585.87</td>\n",
       "      <td>277.05</td>\n",
       "      <td>477.57</td>\n",
       "    </tr>\n",
       "    <tr>\n",
       "      <th>2015-02-28 06:00:00</th>\n",
       "      <td>2015-02-28 06:00:00</td>\n",
       "      <td>1.085165</td>\n",
       "      <td>411.39</td>\n",
       "      <td>431.16</td>\n",
       "      <td>728.87</td>\n",
       "      <td>555.15</td>\n",
       "    </tr>\n",
       "    <tr>\n",
       "      <th>2015-02-28 07:00:00</th>\n",
       "      <td>2015-02-28 07:00:00</td>\n",
       "      <td>-0.794818</td>\n",
       "      <td>907.47</td>\n",
       "      <td>867.58</td>\n",
       "      <td>835.05</td>\n",
       "      <td>755.25</td>\n",
       "    </tr>\n",
       "    <tr>\n",
       "      <th>2015-02-28 08:00:00</th>\n",
       "      <td>2015-02-28 08:00:00</td>\n",
       "      <td>-0.624366</td>\n",
       "      <td>130.55</td>\n",
       "      <td>10.68</td>\n",
       "      <td>929.25</td>\n",
       "      <td>864.93</td>\n",
       "    </tr>\n",
       "    <tr>\n",
       "      <th>2015-02-28 09:00:00</th>\n",
       "      <td>2015-02-28 09:00:00</td>\n",
       "      <td>-0.198693</td>\n",
       "      <td>485.76</td>\n",
       "      <td>956.59</td>\n",
       "      <td>561.30</td>\n",
       "      <td>24.74</td>\n",
       "    </tr>\n",
       "  </tbody>\n",
       "</table>\n",
       "</div>"
      ],
      "text/plain": [
       "                              timestamp     value   close    high     low  \\\n",
       "index                                                                       \n",
       "2015-02-28 05:00:00 2015-02-28 05:00:00 -0.254489  788.61  585.87  277.05   \n",
       "2015-02-28 06:00:00 2015-02-28 06:00:00  1.085165  411.39  431.16  728.87   \n",
       "2015-02-28 07:00:00 2015-02-28 07:00:00 -0.794818  907.47  867.58  835.05   \n",
       "2015-02-28 08:00:00 2015-02-28 08:00:00 -0.624366  130.55   10.68  929.25   \n",
       "2015-02-28 09:00:00 2015-02-28 09:00:00 -0.198693  485.76  956.59  561.30   \n",
       "\n",
       "                       open  \n",
       "index                        \n",
       "2015-02-28 05:00:00  477.57  \n",
       "2015-02-28 06:00:00  555.15  \n",
       "2015-02-28 07:00:00  755.25  \n",
       "2015-02-28 08:00:00  864.93  \n",
       "2015-02-28 09:00:00   24.74  "
      ]
     },
     "execution_count": 10,
     "metadata": {},
     "output_type": "execute_result"
    }
   ],
   "source": [
    "import dask.dataframe as dd \n",
    "\n",
    "df = dd.read_csv(data_path + '2015-*.csv', \n",
    "                 parse_dates=['timestamp']).set_index('index')\n",
    "df.tail()"
   ]
  },
  {
   "cell_type": "code",
   "execution_count": 11,
   "metadata": {},
   "outputs": [
    {
     "data": {
      "text/plain": [
       "502.7854576271186"
      ]
     },
     "execution_count": 11,
     "metadata": {},
     "output_type": "execute_result"
    }
   ],
   "source": [
    "df.close.mean().compute()"
   ]
  },
  {
   "cell_type": "code",
   "execution_count": 12,
   "metadata": {},
   "outputs": [
    {
     "data": {
      "text/plain": [
       "590"
      ]
     },
     "execution_count": 12,
     "metadata": {},
     "output_type": "execute_result"
    }
   ],
   "source": [
    "len(df)"
   ]
  },
  {
   "cell_type": "code",
   "execution_count": 13,
   "metadata": {},
   "outputs": [
    {
     "data": {
      "image/png": "[encoded data removed]",
      "text/plain": [
       "<matplotlib.figure.Figure at 0x7f5e780a2630>"
      ]
     },
     "metadata": {},
     "output_type": "display_data"
    }
   ],
   "source": [
    "df.close.compute().plot(figsize=(10, 4));"
   ]
  },
  {
   "cell_type": "code",
   "execution_count": 14,
   "metadata": {},
   "outputs": [
    {
     "data": {
      "image/png": "[encoded data removed]",
      "text/plain": [
       "<matplotlib.figure.Figure at 0x7f5e4438fb00>"
      ]
     },
     "metadata": {},
     "output_type": "display_data"
    }
   ],
   "source": [
    "df.groupby(df.timestamp.dt.hour).close.mean().compute().plot(figsize=(10, 4));"
   ]
  },
  {
   "cell_type": "markdown",
   "metadata": {},
   "source": [
    "### Use Pandas and a for loop on many CSV files"
   ]
  },
  {
   "cell_type": "code",
   "execution_count": 15,
   "metadata": {},
   "outputs": [
    {
     "data": {
      "text/plain": [
       "Delayed('truediv-171d45e55260508a43de7be4dd5c7531')"
      ]
     },
     "execution_count": 15,
     "metadata": {},
     "output_type": "execute_result"
    }
   ],
   "source": [
    "from dask import delayed\n",
    "\n",
    "dfs = []\n",
    "\n",
    "for fn in filenames:\n",
    "    df = delayed(pd.read_csv)(fn, parse_dates=['timestamp'])\n",
    "    dfs.append(df)\n",
    "    \n",
    "sums = []\n",
    "counts = []\n",
    "\n",
    "for df in dfs:\n",
    "    sums.append(df.close.sum())\n",
    "    counts.append(df.close.count())\n",
    "    \n",
    "result = delayed(sum)(sums) / delayed(sum)(counts)\n",
    "result"
   ]
  },
  {
   "cell_type": "markdown",
   "metadata": {},
   "source": [
    "### Parallelize with Dask.delayed\n",
    "\n",
    "Only use the first ten filenames to produce a reasonable visualization"
   ]
  },
  {
   "cell_type": "code",
   "execution_count": null,
   "metadata": {},
   "outputs": [],
   "source": [
    "result.visualize()"
   ]
  },
  {
   "cell_type": "code",
   "execution_count": 17,
   "metadata": {},
   "outputs": [
    {
     "data": {
      "text/plain": [
       "502.7854576271186"
      ]
     },
     "execution_count": 17,
     "metadata": {},
     "output_type": "execute_result"
    }
   ],
   "source": [
    "result.compute()"
   ]
  },
  {
   "cell_type": "markdown",
   "metadata": {},
   "source": [
    "### These algorithms already exist in dask.dataframe"
   ]
  },
  {
   "cell_type": "code",
   "execution_count": 18,
   "metadata": {},
   "outputs": [
    {
     "data": {
      "text/html": [
       "<div><strong>Dask DataFrame Structure:</strong></div>\n",
       "<div>\n",
       "<style scoped>\n",
       "    .dataframe tbody tr th:only-of-type {\n",
       "        vertical-align: middle;\n",
       "    }\n",
       "\n",
       "    .dataframe tbody tr th {\n",
       "        vertical-align: top;\n",
       "    }\n",
       "\n",
       "    .dataframe thead th {\n",
       "        text-align: right;\n",
       "    }\n",
       "</style>\n",
       "<table border=\"1\" class=\"dataframe\">\n",
       "  <thead>\n",
       "    <tr style=\"text-align: right;\">\n",
       "      <th></th>\n",
       "      <th>timestamp</th>\n",
       "      <th>value</th>\n",
       "      <th>close</th>\n",
       "      <th>high</th>\n",
       "      <th>low</th>\n",
       "      <th>open</th>\n",
       "    </tr>\n",
       "    <tr>\n",
       "      <th>npartitions=59</th>\n",
       "      <th></th>\n",
       "      <th></th>\n",
       "      <th></th>\n",
       "      <th></th>\n",
       "      <th></th>\n",
       "      <th></th>\n",
       "    </tr>\n",
       "  </thead>\n",
       "  <tbody>\n",
       "    <tr>\n",
       "      <th>2015-01-01 00:00:00</th>\n",
       "      <td>datetime64[ns]</td>\n",
       "      <td>float64</td>\n",
       "      <td>float64</td>\n",
       "      <td>float64</td>\n",
       "      <td>float64</td>\n",
       "      <td>float64</td>\n",
       "    </tr>\n",
       "    <tr>\n",
       "      <th>2015-01-02 00:00:00</th>\n",
       "      <td>...</td>\n",
       "      <td>...</td>\n",
       "      <td>...</td>\n",
       "      <td>...</td>\n",
       "      <td>...</td>\n",
       "      <td>...</td>\n",
       "    </tr>\n",
       "    <tr>\n",
       "      <th>...</th>\n",
       "      <td>...</td>\n",
       "      <td>...</td>\n",
       "      <td>...</td>\n",
       "      <td>...</td>\n",
       "      <td>...</td>\n",
       "      <td>...</td>\n",
       "    </tr>\n",
       "    <tr>\n",
       "      <th>2015-02-28 00:00:00</th>\n",
       "      <td>...</td>\n",
       "      <td>...</td>\n",
       "      <td>...</td>\n",
       "      <td>...</td>\n",
       "      <td>...</td>\n",
       "      <td>...</td>\n",
       "    </tr>\n",
       "    <tr>\n",
       "      <th>2015-02-28 09:00:00</th>\n",
       "      <td>...</td>\n",
       "      <td>...</td>\n",
       "      <td>...</td>\n",
       "      <td>...</td>\n",
       "      <td>...</td>\n",
       "      <td>...</td>\n",
       "    </tr>\n",
       "  </tbody>\n",
       "</table>\n",
       "</div>\n",
       "<div>Dask Name: sort_index, 295 tasks</div>"
      ],
      "text/plain": [
       "Dask DataFrame Structure:\n",
       "                          timestamp    value    close     high      low     open\n",
       "npartitions=59                                                                  \n",
       "2015-01-01 00:00:00  datetime64[ns]  float64  float64  float64  float64  float64\n",
       "2015-01-02 00:00:00             ...      ...      ...      ...      ...      ...\n",
       "...                             ...      ...      ...      ...      ...      ...\n",
       "2015-02-28 00:00:00             ...      ...      ...      ...      ...      ...\n",
       "2015-02-28 09:00:00             ...      ...      ...      ...      ...      ...\n",
       "Dask Name: sort_index, 295 tasks"
      ]
     },
     "execution_count": 18,
     "metadata": {},
     "output_type": "execute_result"
    }
   ],
   "source": [
    "import dask.dataframe as dd \n",
    "\n",
    "df = dd.read_csv(data_path + '2015-*.csv', \n",
    "                 parse_dates=['timestamp']).set_index('index')\n",
    "df.tail()\n",
    "df"
   ]
  },
  {
   "cell_type": "code",
   "execution_count": 19,
   "metadata": {},
   "outputs": [
    {
     "data": {
      "text/plain": [
       "502.7854576271186"
      ]
     },
     "execution_count": 19,
     "metadata": {},
     "output_type": "execute_result"
    }
   ],
   "source": [
    "df.close.mean().compute()"
   ]
  },
  {
   "cell_type": "code",
   "execution_count": 20,
   "metadata": {},
   "outputs": [
    {
     "data": {
      "image/png": "[encoded data removed]",
      "text/plain": [
       "<matplotlib.figure.Figure at 0x7f5e3664dbe0>"
      ]
     },
     "metadata": {},
     "output_type": "display_data"
    }
   ],
   "source": [
    "%matplotlib inline\n",
    "result = (df.groupby(df.timestamp.dt.date)\n",
    "            .close\n",
    "            .mean()\n",
    "            .compute()\n",
    "            .plot(figsize=(10, 4), rot=25))"
   ]
  },
  {
   "cell_type": "markdown",
   "metadata": {},
   "source": [
    "## Time Series"
   ]
  },
  {
   "cell_type": "code",
   "execution_count": 21,
   "metadata": {},
   "outputs": [
    {
     "data": {
      "text/html": [
       "<div><strong>Dask DataFrame Structure:</strong></div>\n",
       "<div>\n",
       "<style scoped>\n",
       "    .dataframe tbody tr th:only-of-type {\n",
       "        vertical-align: middle;\n",
       "    }\n",
       "\n",
       "    .dataframe tbody tr th {\n",
       "        vertical-align: top;\n",
       "    }\n",
       "\n",
       "    .dataframe thead th {\n",
       "        text-align: right;\n",
       "    }\n",
       "</style>\n",
       "<table border=\"1\" class=\"dataframe\">\n",
       "  <thead>\n",
       "    <tr style=\"text-align: right;\">\n",
       "      <th></th>\n",
       "      <th>timestamp</th>\n",
       "      <th>value</th>\n",
       "      <th>close</th>\n",
       "      <th>high</th>\n",
       "      <th>low</th>\n",
       "      <th>open</th>\n",
       "    </tr>\n",
       "    <tr>\n",
       "      <th>npartitions=59</th>\n",
       "      <th></th>\n",
       "      <th></th>\n",
       "      <th></th>\n",
       "      <th></th>\n",
       "      <th></th>\n",
       "      <th></th>\n",
       "    </tr>\n",
       "  </thead>\n",
       "  <tbody>\n",
       "    <tr>\n",
       "      <th>2015-01-01 00:00:00</th>\n",
       "      <td>datetime64[ns]</td>\n",
       "      <td>float64</td>\n",
       "      <td>float64</td>\n",
       "      <td>float64</td>\n",
       "      <td>float64</td>\n",
       "      <td>float64</td>\n",
       "    </tr>\n",
       "    <tr>\n",
       "      <th>2015-01-02 00:00:00</th>\n",
       "      <td>...</td>\n",
       "      <td>...</td>\n",
       "      <td>...</td>\n",
       "      <td>...</td>\n",
       "      <td>...</td>\n",
       "      <td>...</td>\n",
       "    </tr>\n",
       "    <tr>\n",
       "      <th>...</th>\n",
       "      <td>...</td>\n",
       "      <td>...</td>\n",
       "      <td>...</td>\n",
       "      <td>...</td>\n",
       "      <td>...</td>\n",
       "      <td>...</td>\n",
       "    </tr>\n",
       "    <tr>\n",
       "      <th>2015-02-28 00:00:00</th>\n",
       "      <td>...</td>\n",
       "      <td>...</td>\n",
       "      <td>...</td>\n",
       "      <td>...</td>\n",
       "      <td>...</td>\n",
       "      <td>...</td>\n",
       "    </tr>\n",
       "    <tr>\n",
       "      <th>2015-02-28 09:00:00</th>\n",
       "      <td>...</td>\n",
       "      <td>...</td>\n",
       "      <td>...</td>\n",
       "      <td>...</td>\n",
       "      <td>...</td>\n",
       "      <td>...</td>\n",
       "    </tr>\n",
       "  </tbody>\n",
       "</table>\n",
       "</div>\n",
       "<div>Dask Name: sort_index, 59 tasks</div>"
      ],
      "text/plain": [
       "Dask DataFrame Structure:\n",
       "                          timestamp    value    close     high      low     open\n",
       "npartitions=59                                                                  \n",
       "2015-01-01 00:00:00  datetime64[ns]  float64  float64  float64  float64  float64\n",
       "2015-01-02 00:00:00             ...      ...      ...      ...      ...      ...\n",
       "...                             ...      ...      ...      ...      ...      ...\n",
       "2015-02-28 00:00:00             ...      ...      ...      ...      ...      ...\n",
       "2015-02-28 09:00:00             ...      ...      ...      ...      ...      ...\n",
       "Dask Name: sort_index, 59 tasks"
      ]
     },
     "execution_count": 21,
     "metadata": {},
     "output_type": "execute_result"
    }
   ],
   "source": [
    "df = dd.read_csv(data_path + '2015-*.csv', \n",
    "                 parse_dates=['timestamp']).set_index('index')\n",
    "\n",
    "df = client.persist(df.set_index(df.timestamp))\n",
    "df"
   ]
  },
  {
   "cell_type": "code",
   "execution_count": 22,
   "metadata": {},
   "outputs": [
    {
     "data": {
      "text/html": [
       "<div>\n",
       "<style scoped>\n",
       "    .dataframe tbody tr th:only-of-type {\n",
       "        vertical-align: middle;\n",
       "    }\n",
       "\n",
       "    .dataframe tbody tr th {\n",
       "        vertical-align: top;\n",
       "    }\n",
       "\n",
       "    .dataframe thead th {\n",
       "        text-align: right;\n",
       "    }\n",
       "</style>\n",
       "<table border=\"1\" class=\"dataframe\">\n",
       "  <thead>\n",
       "    <tr style=\"text-align: right;\">\n",
       "      <th></th>\n",
       "      <th>timestamp</th>\n",
       "      <th>value</th>\n",
       "      <th>close</th>\n",
       "      <th>high</th>\n",
       "      <th>low</th>\n",
       "      <th>open</th>\n",
       "    </tr>\n",
       "    <tr>\n",
       "      <th>timestamp</th>\n",
       "      <th></th>\n",
       "      <th></th>\n",
       "      <th></th>\n",
       "      <th></th>\n",
       "      <th></th>\n",
       "      <th></th>\n",
       "    </tr>\n",
       "  </thead>\n",
       "  <tbody>\n",
       "    <tr>\n",
       "      <th>2015-02-28 05:00:00</th>\n",
       "      <td>2015-02-28 05:00:00</td>\n",
       "      <td>-0.254489</td>\n",
       "      <td>788.61</td>\n",
       "      <td>585.87</td>\n",
       "      <td>277.05</td>\n",
       "      <td>477.57</td>\n",
       "    </tr>\n",
       "    <tr>\n",
       "      <th>2015-02-28 06:00:00</th>\n",
       "      <td>2015-02-28 06:00:00</td>\n",
       "      <td>1.085165</td>\n",
       "      <td>411.39</td>\n",
       "      <td>431.16</td>\n",
       "      <td>728.87</td>\n",
       "      <td>555.15</td>\n",
       "    </tr>\n",
       "    <tr>\n",
       "      <th>2015-02-28 07:00:00</th>\n",
       "      <td>2015-02-28 07:00:00</td>\n",
       "      <td>-0.794818</td>\n",
       "      <td>907.47</td>\n",
       "      <td>867.58</td>\n",
       "      <td>835.05</td>\n",
       "      <td>755.25</td>\n",
       "    </tr>\n",
       "    <tr>\n",
       "      <th>2015-02-28 08:00:00</th>\n",
       "      <td>2015-02-28 08:00:00</td>\n",
       "      <td>-0.624366</td>\n",
       "      <td>130.55</td>\n",
       "      <td>10.68</td>\n",
       "      <td>929.25</td>\n",
       "      <td>864.93</td>\n",
       "    </tr>\n",
       "    <tr>\n",
       "      <th>2015-02-28 09:00:00</th>\n",
       "      <td>2015-02-28 09:00:00</td>\n",
       "      <td>-0.198693</td>\n",
       "      <td>485.76</td>\n",
       "      <td>956.59</td>\n",
       "      <td>561.30</td>\n",
       "      <td>24.74</td>\n",
       "    </tr>\n",
       "  </tbody>\n",
       "</table>\n",
       "</div>"
      ],
      "text/plain": [
       "                              timestamp     value   close    high     low  \\\n",
       "timestamp                                                                   \n",
       "2015-02-28 05:00:00 2015-02-28 05:00:00 -0.254489  788.61  585.87  277.05   \n",
       "2015-02-28 06:00:00 2015-02-28 06:00:00  1.085165  411.39  431.16  728.87   \n",
       "2015-02-28 07:00:00 2015-02-28 07:00:00 -0.794818  907.47  867.58  835.05   \n",
       "2015-02-28 08:00:00 2015-02-28 08:00:00 -0.624366  130.55   10.68  929.25   \n",
       "2015-02-28 09:00:00 2015-02-28 09:00:00 -0.198693  485.76  956.59  561.30   \n",
       "\n",
       "                       open  \n",
       "timestamp                    \n",
       "2015-02-28 05:00:00  477.57  \n",
       "2015-02-28 06:00:00  555.15  \n",
       "2015-02-28 07:00:00  755.25  \n",
       "2015-02-28 08:00:00  864.93  \n",
       "2015-02-28 09:00:00   24.74  "
      ]
     },
     "execution_count": 22,
     "metadata": {},
     "output_type": "execute_result"
    }
   ],
   "source": [
    "df.tail()"
   ]
  },
  {
   "cell_type": "code",
   "execution_count": null,
   "metadata": {},
   "outputs": [],
   "source": [
    "(df.head(100, compute = False).close\n",
    "   .rolling(10)\n",
    "   .mean()\n",
    "   .visualize(rankdir=\"LR\"))"
   ]
  },
  {
   "cell_type": "code",
   "execution_count": null,
   "metadata": {},
   "outputs": [],
   "source": [
    "(df.close\n",
    "   .resample(rule=pd.Timedelta(hours=4)).count()\n",
    "   .mean()\n",
    "   .visualize(rankdir=\"LR\"))"
   ]
  },
  {
   "cell_type": "markdown",
   "metadata": {},
   "source": [
    "### Minimize Memory Use"
   ]
  },
  {
   "cell_type": "code",
   "execution_count": 25,
   "metadata": {},
   "outputs": [
    {
     "data": {
      "text/plain": [
       "502.7854576271186"
      ]
     },
     "execution_count": 25,
     "metadata": {},
     "output_type": "execute_result"
    }
   ],
   "source": [
    "dfs = []\n",
    "\n",
    "for fn in filenames:\n",
    "    dfs.append(pd.read_csv(fn, parse_dates=['timestamp']))\n",
    "    \n",
    "sums = []\n",
    "counts = []\n",
    "\n",
    "for df in dfs:\n",
    "    sums.append(df.close.sum())\n",
    "    counts.append(df.close.count())\n",
    "    \n",
    "sum(sums) / sum(counts)"
   ]
  },
  {
   "cell_type": "code",
   "execution_count": 26,
   "metadata": {},
   "outputs": [
    {
     "data": {
      "text/plain": [
       "502.7854576271186"
      ]
     },
     "execution_count": 26,
     "metadata": {},
     "output_type": "execute_result"
    }
   ],
   "source": [
    "sums = []\n",
    "counts = []\n",
    "\n",
    "for fn in filenames:\n",
    "    df = pd.read_csv(fn, parse_dates=['timestamp'])\n",
    "    sums.append(df.close.sum())\n",
    "    counts.append(df.close.count())\n",
    "    \n",
    "sum(sums) / sum(counts)"
   ]
  }
 ],
 "metadata": {
  "kernelspec": {
   "display_name": "Python 3",
   "language": "python",
   "name": "python3"
  },
  "language_info": {
   "codemirror_mode": {
    "name": "ipython",
    "version": 3
   },
   "file_extension": ".py",
   "mimetype": "text/x-python",
   "name": "python",
   "nbconvert_exporter": "python",
   "pygments_lexer": "ipython3",
   "version": "3.6.4"
  }
 },
 "nbformat": 4,
 "nbformat_minor": 1
}
