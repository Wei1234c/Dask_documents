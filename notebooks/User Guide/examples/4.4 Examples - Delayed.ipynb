{
 "cells": [
  {
   "cell_type": "markdown",
   "metadata": {},
   "source": [
    "# Examples - Delayed\n",
    "http://dask.pydata.org/en/latest/examples-tutorials.html#delayed"
   ]
  },
  {
   "cell_type": "code",
   "execution_count": 7,
   "metadata": {},
   "outputs": [],
   "source": [
    "import os, h5py, dask\n",
    "\n",
    "data_path = '../dask-tutorial/data'"
   ]
  },
  {
   "cell_type": "markdown",
   "metadata": {},
   "source": [
    "## Build Custom Arrays\n",
    "Here we have a serial blocked computation for computing the mean of all positive elements in a large, on disk array:"
   ]
  },
  {
   "cell_type": "code",
   "execution_count": 3,
   "metadata": {},
   "outputs": [],
   "source": [
    "filename = 'myfile.hdf5'\n",
    "file = os.path.join(data_path, filename)"
   ]
  },
  {
   "cell_type": "code",
   "execution_count": 2,
   "metadata": {},
   "outputs": [
    {
     "data": {
      "text/plain": [
       "<HDF5 dataset \"x\": shape (1000000,), type \"<f4\">"
      ]
     },
     "execution_count": 2,
     "metadata": {},
     "output_type": "execute_result"
    }
   ],
   "source": [
    "dset = h5py.File(file)['/x']          # Trillion element array on disk\n",
    "dset"
   ]
  },
  {
   "cell_type": "code",
   "execution_count": 3,
   "metadata": {},
   "outputs": [
    {
     "data": {
      "text/plain": [
       "1.0016021365966796"
      ]
     },
     "execution_count": 3,
     "metadata": {},
     "output_type": "execute_result"
    }
   ],
   "source": [
    "total_size = dset.shape[0]\n",
    "chunks = dset.chunks[0]\n",
    "block_size = total_size // chunks\n",
    "\n",
    "sums = []\n",
    "counts = []\n",
    "\n",
    "for i in range(chunks):                    # One million times\n",
    "    chunk = dset[block_size*i:block_size*(i + 1)]    # Pull out chunk\n",
    "    positive = chunk[chunk > 0]             # Filter out negative elements\n",
    "    sums.append(positive.sum())             # Sum chunk\n",
    "    counts.append(positive.size)            # Count chunk\n",
    "\n",
    "result = sum(sums) / sum(counts)            # Aggregate results\n",
    "result"
   ]
  },
  {
   "cell_type": "code",
   "execution_count": 4,
   "metadata": {},
   "outputs": [],
   "source": [
    "dset.file.close()"
   ]
  },
  {
   "cell_type": "markdown",
   "metadata": {},
   "source": [
    "Below is the same code, parallelized using dask.delayed:"
   ]
  },
  {
   "cell_type": "code",
   "execution_count": 4,
   "metadata": {},
   "outputs": [
    {
     "data": {
      "text/plain": [
       "Delayed('truediv-c57c09393428613b1d733e1a897d959b')"
      ]
     },
     "execution_count": 4,
     "metadata": {},
     "output_type": "execute_result"
    }
   ],
   "source": [
    "from dask import delayed\n",
    "\n",
    "h5file = delayed(h5py.File)(file)  # Trillion element array on disk\n",
    "dset = h5file['/x']\n",
    "\n",
    "total_size = dset.shape[0]\n",
    "chunks = dset.chunks[0]\n",
    "block_size = total_size // chunks\n",
    "\n",
    "sums = []\n",
    "counts = []\n",
    "\n",
    "for i in range(chunks.compute()):                    # One million times\n",
    "    chunk = dset[block_size*i:block_size*(i + 1)]    # Pull out chunk\n",
    "    positive = chunk[chunk > 0]             # Filter out negative elements\n",
    "    sums.append(positive.sum())             # Sum chunk\n",
    "    counts.append(positive.size)            # Count chunk\n",
    "\n",
    "# result = sum(sums) / sum(counts)                      # Aggregate results    \n",
    "result = delayed(sum)(sums) / delayed(sum)(counts)    # Aggregate results\n",
    "result  "
   ]
  },
  {
   "cell_type": "code",
   "execution_count": 5,
   "metadata": {},
   "outputs": [
    {
     "data": {
      "text/plain": [
       "1.0016021365966796"
      ]
     },
     "execution_count": 5,
     "metadata": {},
     "output_type": "execute_result"
    }
   ],
   "source": [
    "result.compute()"
   ]
  },
  {
   "cell_type": "code",
   "execution_count": 6,
   "metadata": {},
   "outputs": [],
   "source": [
    "h5file.compute().close()"
   ]
  },
  {
   "cell_type": "markdown",
   "metadata": {},
   "source": [
    "Only 3 lines had to change to make this computation parallel instead of serial.\n",
    "\n",
    "- Wrap the original array in delayed. **This makes all the slices on it return Delayed objects.**\n",
    "- Wrap both calls to sum with delayed.\n",
    "- Call the compute method on the result.  \n",
    "\n",
    "While the for loop above still iterates fully, it’s just building up a graph of the computation that needs to happen, without actually doing any computing."
   ]
  },
  {
   "cell_type": "markdown",
   "metadata": {},
   "source": [
    "## Data Processing Pipelines\n",
    "Example notebook.\n",
    "\n",
    "Now, rebuilding the example from custom graphs:"
   ]
  },
  {
   "cell_type": "code",
   "execution_count": 8,
   "metadata": {},
   "outputs": [
    {
     "data": {
      "text/plain": [
       "Delayed('store-7f376308-21b3-427e-a9ee-6be66db0edba')"
      ]
     },
     "execution_count": 8,
     "metadata": {},
     "output_type": "execute_result"
    }
   ],
   "source": [
    "from dask import delayed\n",
    "@delayed\n",
    "def load(filename):\n",
    "    return filename + ' loaded'\n",
    "\n",
    "@delayed\n",
    "def clean(data):\n",
    "    return data + ' cleaned'\n",
    "\n",
    "@delayed\n",
    "def analyze(sequence_of_data):\n",
    "    return str(sequence_of_data) + ' analyzed'\n",
    "\n",
    "@delayed\n",
    "def store(result):\n",
    "#     with open(..., 'w') as f:\n",
    "#         f.write(result)\n",
    "    return result + ' stored'\n",
    "\n",
    "files = ['myfile.a.data', 'myfile.b.data', 'myfile.c.data']\n",
    "loaded = [load(i) for i in files]\n",
    "cleaned = [clean(i) for i in loaded]\n",
    "analyzed = analyze(cleaned)\n",
    "stored = store(analyzed)\n",
    "stored"
   ]
  },
  {
   "cell_type": "code",
   "execution_count": 9,
   "metadata": {},
   "outputs": [
    {
     "data": {
      "text/plain": [
       "\"['myfile.a.data loaded cleaned', 'myfile.b.data loaded cleaned', 'myfile.c.data loaded cleaned'] analyzed stored\""
      ]
     },
     "execution_count": 9,
     "metadata": {},
     "output_type": "execute_result"
    }
   ],
   "source": [
    "stored.compute()"
   ]
  },
  {
   "cell_type": "code",
   "execution_count": 10,
   "metadata": {},
   "outputs": [
    {
     "data": {
      "image/png": "[encoded data removed]",
      "text/plain": [
       "<IPython.core.display.Image object>"
      ]
     },
     "execution_count": 10,
     "metadata": {},
     "output_type": "execute_result"
    }
   ],
   "source": [
    "stored.visualize()"
   ]
  }
 ],
 "metadata": {
  "kernelspec": {
   "display_name": "Python 3",
   "language": "python",
   "name": "python3"
  },
  "language_info": {
   "codemirror_mode": {
    "name": "ipython",
    "version": 3
   },
   "file_extension": ".py",
   "mimetype": "text/x-python",
   "name": "python",
   "nbconvert_exporter": "python",
   "pygments_lexer": "ipython3",
   "version": "3.6.4"
  }
 },
 "nbformat": 4,
 "nbformat_minor": 2
}
