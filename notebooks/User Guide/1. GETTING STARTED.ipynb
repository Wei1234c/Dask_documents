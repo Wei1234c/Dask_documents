{
 "cells": [
  {
   "cell_type": "markdown",
   "metadata": {},
   "source": [
    "# 1. GETTING STARTED\n",
    "https://dask.pydata.org/en/latest/index.html    \n",
    "https://distributed.readthedocs.io/en/latest/  "
   ]
  },
  {
   "cell_type": "code",
   "execution_count": 1,
   "metadata": {},
   "outputs": [],
   "source": [
    "import dask.dataframe as dd\n",
    "import dask.array as da\n",
    "import dask.bag as db\n",
    "from dask import delayed\n",
    "from dask.distributed import Client"
   ]
  },
  {
   "cell_type": "code",
   "execution_count": 2,
   "metadata": {},
   "outputs": [],
   "source": [
    "# df = dd.read_csv('2015-*-*.csv')\n",
    "# df.groupby(df.user_id).value.mean().compute()"
   ]
  },
  {
   "cell_type": "code",
   "execution_count": 3,
   "metadata": {},
   "outputs": [],
   "source": [
    "# f = h5py.File('myfile.hdf5')\n",
    "# x = da.from_array(f['/big-data'], chunks=(1000, 1000))\n",
    "# x - x.mean(axis=1).compute()"
   ]
  },
  {
   "cell_type": "code",
   "execution_count": 4,
   "metadata": {},
   "outputs": [],
   "source": [
    "# b = db.read_text('2015-*-*.json.gz').map(json.loads)\n",
    "# b.pluck('name').frequencies().topk(10, lambda pair: pair[1]).compute()"
   ]
  },
  {
   "cell_type": "code",
   "execution_count": 5,
   "metadata": {},
   "outputs": [],
   "source": [
    "# L = []\n",
    "# for fn in filenames:                  # Use for loops to build up computation\n",
    "#     data = delayed(load)(fn)          # Delay execution of function\n",
    "#     L.append(delayed(process)(data))  # Build connections between variables\n",
    "\n",
    "# result = delayed(summarize)(L)\n",
    "# result.compute()"
   ]
  },
  {
   "cell_type": "code",
   "execution_count": 6,
   "metadata": {},
   "outputs": [],
   "source": [
    "# client = Client('scheduler:port')\n",
    "\n",
    "# futures = []\n",
    "# for fn in filenames:\n",
    "#     future = client.submit(load, fn)\n",
    "#     futures.append(future)\n",
    "\n",
    "# summary = client.submit(summarize, futures)\n",
    "# summary.result()"
   ]
  }
 ],
 "metadata": {
  "kernelspec": {
   "display_name": "Python 3",
   "language": "python",
   "name": "python3"
  },
  "language_info": {
   "codemirror_mode": {
    "name": "ipython",
    "version": 3
   },
   "file_extension": ".py",
   "mimetype": "text/x-python",
   "name": "python",
   "nbconvert_exporter": "python",
   "pygments_lexer": "ipython3",
   "version": "3.6.4"
  }
 },
 "nbformat": 4,
 "nbformat_minor": 2
}
